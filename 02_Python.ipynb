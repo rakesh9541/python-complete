{
 "cells": [
  {
   "cell_type": "markdown",
   "metadata": {
    "id": "pY8iWjayaC22"
   },
   "source": [
    "# Python\n",
    "\n",
    "In this lessons, we'll learn about the basics of Python programmming. "
   ]
  },
  {
   "cell_type": "markdown",
   "metadata": {
    "id": "VoMq0eFRvugb"
   },
   "source": [
    "#  Variables"
   ]
  },
  {
   "cell_type": "markdown",
   "metadata": {
    "id": "qWro5T5qTJJL"
   },
   "source": [
    "Variables are containers for holding data and they're defined by a name and value.\n",
    "\n",
    "<div align=\"left\">\n",
    "<img src=\"https://madewithml.com/static/images/foundations/python/variables.png\" width=\"220\">\n",
    "</div>"
   ]
  },
  {
   "cell_type": "code",
   "execution_count": 1,
   "metadata": {
    "colab": {
     "base_uri": "https://localhost:8080/"
    },
    "id": "0-dXQiLlTIgz",
    "outputId": "b0a5d135-9122-4534-d9b6-5f5b8c9b2e6e"
   },
   "outputs": [
    {
     "name": "stdout",
     "output_type": "stream",
     "text": [
      "5\n",
      "<class 'int'>\n"
     ]
    }
   ],
   "source": [
    "# Integer variable\n",
    "x = 5\n",
    "print (x)\n",
    "print (type(x))\n"
   ]
  },
  {
   "cell_type": "markdown",
   "metadata": {
    "id": "LDAdgPSCyMbN"
   },
   "source": [
    "We can change the value of a variable by simply assigning a new value to it."
   ]
  },
  {
   "cell_type": "code",
   "execution_count": 2,
   "metadata": {
    "colab": {
     "base_uri": "https://localhost:8080/"
    },
    "id": "5Ym0owFxTkjo",
    "outputId": "e5b10309-6868-419d-abdd-8c87069c18b4"
   },
   "outputs": [
    {
     "name": "stdout",
     "output_type": "stream",
     "text": [
      "hello\n",
      "<class 'str'>\n"
     ]
    }
   ],
   "source": [
    "# String variable\n",
    "x = \"hello\"\n",
    "print (x)\n",
    "print (type(x))"
   ]
  },
  {
   "cell_type": "markdown",
   "metadata": {
    "id": "Lsq_c_AhEzZN"
   },
   "source": [
    "There are many different types of variables: integers, floats, strings, boolean etc."
   ]
  },
  {
   "cell_type": "code",
   "execution_count": 3,
   "metadata": {
    "colab": {
     "base_uri": "https://localhost:8080/"
    },
    "id": "m4kAmbD9EzHz",
    "outputId": "7d1c1f6e-3fdb-4d64-808a-be55f936e216"
   },
   "outputs": [
    {
     "name": "stdout",
     "output_type": "stream",
     "text": [
      "5 <class 'int'>\n"
     ]
    }
   ],
   "source": [
    "# int variable\n",
    "x = 5\n",
    "print (x, type(x))"
   ]
  },
  {
   "cell_type": "code",
   "execution_count": 4,
   "metadata": {
    "colab": {
     "base_uri": "https://localhost:8080/"
    },
    "id": "gb9BzIoOEy6A",
    "outputId": "4eddabc2-3ed6-45e9-a391-173ea930bd19"
   },
   "outputs": [
    {
     "name": "stdout",
     "output_type": "stream",
     "text": [
      "5.0 <class 'float'>\n"
     ]
    }
   ],
   "source": [
    "# float variable\n",
    "x = 5.0\n",
    "print (x, type(x))"
   ]
  },
  {
   "cell_type": "code",
   "execution_count": 5,
   "metadata": {
    "colab": {
     "base_uri": "https://localhost:8080/"
    },
    "id": "RkqP-eraEytN",
    "outputId": "30359ecc-b2d9-4019-b36e-4af308f569af"
   },
   "outputs": [
    {
     "name": "stdout",
     "output_type": "stream",
     "text": [
      "5 <class 'str'>\n"
     ]
    }
   ],
   "source": [
    "# text variable\n",
    "x = \"5\" \n",
    "print (x, type(x))"
   ]
  },
  {
   "cell_type": "code",
   "execution_count": 6,
   "metadata": {
    "colab": {
     "base_uri": "https://localhost:8080/"
    },
    "id": "ws4HSsJpEyfL",
    "outputId": "066bbd5c-0b1e-4e20-c975-c7f25af2f5f0"
   },
   "outputs": [
    {
     "name": "stdout",
     "output_type": "stream",
     "text": [
      "True <class 'bool'>\n"
     ]
    }
   ],
   "source": [
    "# boolean variable\n",
    "x = True\n",
    "print (x, type(x))"
   ]
  },
  {
   "cell_type": "markdown",
   "metadata": {
    "id": "EWOmrbiDybhF"
   },
   "source": [
    "We can also do operations with variables."
   ]
  },
  {
   "cell_type": "code",
   "execution_count": 7,
   "metadata": {
    "colab": {
     "base_uri": "https://localhost:8080/"
    },
    "id": "1a4ZhMV1T1-0",
    "outputId": "17050c5b-12f3-4012-a639-cb41a543e0b5"
   },
   "outputs": [
    {
     "name": "stdout",
     "output_type": "stream",
     "text": [
      "3\n"
     ]
    }
   ],
   "source": [
    "# Variables can be used with each other\n",
    "a = 1\n",
    "b = 2\n",
    "c = a + b\n",
    "print (c)"
   ]
  },
  {
   "cell_type": "markdown",
   "metadata": {
    "id": "6HPtavfdU8Ut"
   },
   "source": [
    "We should always know what types of variables we're dealing with so we can do the right operations with them. Here's a common mistake that can happen if we're using the wrong variable type."
   ]
  },
  {
   "cell_type": "code",
   "execution_count": 8,
   "metadata": {
    "colab": {
     "base_uri": "https://localhost:8080/"
    },
    "id": "8pr1-i7IVD-h",
    "outputId": "4e82164d-800f-4a26-d581-5b34a9731bb8"
   },
   "outputs": [
    {
     "name": "stdout",
     "output_type": "stream",
     "text": [
      "8\n"
     ]
    }
   ],
   "source": [
    "# int variables\n",
    "a = 5\n",
    "b = 3\n",
    "print (a + b)"
   ]
  },
  {
   "cell_type": "code",
   "execution_count": 9,
   "metadata": {
    "colab": {
     "base_uri": "https://localhost:8080/"
    },
    "id": "A9u0Mtke5xkk",
    "outputId": "ae1e2725-4817-4fd3-96df-af2ee0eb8ac4"
   },
   "outputs": [
    {
     "name": "stdout",
     "output_type": "stream",
     "text": [
      "53\n"
     ]
    }
   ],
   "source": [
    "# string variables\n",
    "a = \"5\"\n",
    "b = \"3\"\n",
    "print (a + b)"
   ]
  },
  {
   "cell_type": "markdown",
   "metadata": {
    "id": "q4R_UF6PVw4V"
   },
   "source": [
    "#  Lists"
   ]
  },
  {
   "cell_type": "markdown",
   "metadata": {
    "id": "LvGsQBj4VjMl"
   },
   "source": [
    "Lists are an ordered, mutable (changeable) collection of values that are *comma separated* and enclosed by *square brackets*. A list can be comprised of many different types of variables (below is a list with an integer, string and a float)."
   ]
  },
  {
   "cell_type": "code",
   "execution_count": 10,
   "metadata": {
    "colab": {
     "base_uri": "https://localhost:8080/"
    },
    "id": "9iPESkq9VvlX",
    "outputId": "c05611c0-8b51-459a-bfc0-72403146595d"
   },
   "outputs": [
    {
     "name": "stdout",
     "output_type": "stream",
     "text": [
      "[3, 'hello', 1.2]\n"
     ]
    }
   ],
   "source": [
    "# Creating a list\n",
    "x = [3, \"hello\", 1.2]\n",
    "print (x)"
   ]
  },
  {
   "cell_type": "code",
   "execution_count": 11,
   "metadata": {
    "colab": {
     "base_uri": "https://localhost:8080/"
    },
    "id": "esDwOfutKtBf",
    "outputId": "1c085f9a-d835-4333-9f6c-0ea1896dd8f9"
   },
   "outputs": [
    {
     "data": {
      "text/plain": [
       "3"
      ]
     },
     "execution_count": 11,
     "metadata": {},
     "output_type": "execute_result"
    }
   ],
   "source": [
    "# Length of a list\n",
    "len(x)"
   ]
  },
  {
   "cell_type": "markdown",
   "metadata": {
    "id": "0xC6WvuwbGDg"
   },
   "source": [
    "You can add to a list by using the **append** function."
   ]
  },
  {
   "cell_type": "code",
   "execution_count": 12,
   "metadata": {
    "colab": {
     "base_uri": "https://localhost:8080/"
    },
    "id": "7lbajc-zV515",
    "outputId": "403388e4-8f9f-40e3-fe54-3306e94cd9a2"
   },
   "outputs": [
    {
     "name": "stdout",
     "output_type": "stream",
     "text": [
      "[3, 'hello', 1.2, 7]\n",
      "4\n"
     ]
    }
   ],
   "source": [
    "# Adding to a list\n",
    "x.append(7)\n",
    "print (x)\n",
    "print (len(x))"
   ]
  },
  {
   "cell_type": "code",
   "execution_count": 13,
   "metadata": {
    "colab": {
     "base_uri": "https://localhost:8080/"
    },
    "id": "TjVjmiSIK1YA",
    "outputId": "4b01aae1-d9de-4c3f-a7c6-c5a2261c7622"
   },
   "outputs": [
    {
     "name": "stdout",
     "output_type": "stream",
     "text": [
      "[3, 'bye', 1.2, 7]\n"
     ]
    }
   ],
   "source": [
    "# Replacing items in a list\n",
    "x[1] = \"bye\"\n",
    "print (x)"
   ]
  },
  {
   "cell_type": "code",
   "execution_count": 14,
   "metadata": {
    "colab": {
     "base_uri": "https://localhost:8080/"
    },
    "id": "tNLaysG6K6E9",
    "outputId": "6027503f-446d-4b7d-e692-0891ef56ff4a"
   },
   "outputs": [
    {
     "name": "stdout",
     "output_type": "stream",
     "text": [
      "[3, 'bye', 1.2, 7, 2.4, 'world']\n"
     ]
    }
   ],
   "source": [
    "# Operations\n",
    "y = [2.4, \"world\"]\n",
    "z = x + y\n",
    "print (z)"
   ]
  },
  {
   "cell_type": "markdown",
   "metadata": {
    "id": "ddpIO6LLVzh0"
   },
   "source": [
    "# Tuples"
   ]
  },
  {
   "cell_type": "markdown",
   "metadata": {
    "id": "CAZblq7oXY3s"
   },
   "source": [
    "Tuples are collections that are ordered and immutable (unchangeable). You will use these to store values that will never be changed."
   ]
  },
  {
   "cell_type": "code",
   "execution_count": 15,
   "metadata": {
    "colab": {
     "base_uri": "https://localhost:8080/"
    },
    "id": "G95lu8xWXY90",
    "outputId": "2dcf03f2-f5a5-45c7-8755-f4ae29e38a00"
   },
   "outputs": [
    {
     "name": "stdout",
     "output_type": "stream",
     "text": [
      "(3.0, 'hello')\n"
     ]
    }
   ],
   "source": [
    "# Creating a tuple\n",
    "x = (3.0, \"hello\") # tuples start and end with ()\n",
    "print (x)"
   ]
  },
  {
   "cell_type": "code",
   "execution_count": 16,
   "metadata": {
    "colab": {
     "base_uri": "https://localhost:8080/"
    },
    "id": "kq23Bej1acAP",
    "outputId": "a748db70-ee8c-47f8-90e4-da15badeb929"
   },
   "outputs": [
    {
     "name": "stdout",
     "output_type": "stream",
     "text": [
      "(3.0, 'hello', 5.6, 4)\n"
     ]
    }
   ],
   "source": [
    "# Adding values to a tuple\n",
    "x = x + (5.6, 4)\n",
    "print (x)"
   ]
  },
  {
   "cell_type": "code",
   "execution_count": 17,
   "metadata": {
    "id": "-o-tW98FLffc"
   },
   "outputs": [],
   "source": [
    "# Try to change (it won't work and we get an error)\n",
    "# x[0] = 1.2"
   ]
  },
  {
   "cell_type": "markdown",
   "metadata": {
    "id": "FWFfVUjmfOoS"
   },
   "source": [
    "# Sets"
   ]
  },
  {
   "cell_type": "markdown",
   "metadata": {
    "id": "hqRA6UHufQnV"
   },
   "source": [
    "Sets are collections that are unordered and mutable. However, every item in a set much be unique."
   ]
  },
  {
   "cell_type": "code",
   "execution_count": 18,
   "metadata": {
    "colab": {
     "base_uri": "https://localhost:8080/"
    },
    "id": "ZOtPxlMzfQEL",
    "outputId": "f6af7c02-c069-40bb-f6a9-bb41fd70615f"
   },
   "outputs": [
    {
     "name": "stdout",
     "output_type": "stream",
     "text": [
      "{'L', 'a', 'M', 'e', 'w', ' ', 't', 'W', 'n', 'r', 'd', 'i', 'h'}\n",
      "{'With', 'with', 'Made', 'ML', 'Learn'}\n"
     ]
    }
   ],
   "source": [
    "# Sets\n",
    "text = \"Learn ML with Made With ML\"\n",
    "print (set(text))\n",
    "print (set(text.split(\" \")))"
   ]
  },
  {
   "cell_type": "markdown",
   "metadata": {
    "id": "M7mQpE7dtpX6"
   },
   "source": [
    "# Indexing and Slicing"
   ]
  },
  {
   "cell_type": "markdown",
   "metadata": {
    "id": "wJqJM2Q13TwE"
   },
   "source": [
    "Indexing and slicing allow us to retrieve specific values. Note that indices can be positive (starting from 0) or negative (-1 and lower, where -1 is the last item).\n",
    "\n",
    "<div align=\"left\">\n",
    "<img src=\"https://madewithml.com/static/images/foundations/python/indexing.png\" width=\"300\">\n",
    "</div>"
   ]
  },
  {
   "cell_type": "code",
   "execution_count": 19,
   "metadata": {
    "colab": {
     "base_uri": "https://localhost:8080/"
    },
    "id": "W0xpIryJWCN9",
    "outputId": "ee4dff59-28c0-4d29-c82f-81e5c4980e10"
   },
   "outputs": [
    {
     "name": "stdout",
     "output_type": "stream",
     "text": [
      "x[0]:  3\n",
      "x[1]:  hello\n",
      "x[-1]:  1.2\n",
      "x[-2]:  hello\n"
     ]
    }
   ],
   "source": [
    "# Indexing\n",
    "x = [3, \"hello\", 1.2]\n",
    "print (\"x[0]: \", x[0])\n",
    "print (\"x[1]: \", x[1])\n",
    "print (\"x[-1]: \", x[-1]) # the last item\n",
    "print (\"x[-2]: \", x[-2]) # the second to last item"
   ]
  },
  {
   "cell_type": "code",
   "execution_count": 20,
   "metadata": {
    "colab": {
     "base_uri": "https://localhost:8080/"
    },
    "id": "VSu_HNrnc1WK",
    "outputId": "3333afba-192e-42b3-f63b-0c0f84abd149"
   },
   "outputs": [
    {
     "name": "stdout",
     "output_type": "stream",
     "text": [
      "x[:]:  [3, 'hello', 1.2]\n",
      "x[1:]:  ['hello', 1.2]\n",
      "x[1:2]:  ['hello']\n",
      "x[:-1]:  [3, 'hello']\n"
     ]
    }
   ],
   "source": [
    "# Slicing\n",
    "print (\"x[:]: \", x[:]) # all indices\n",
    "print (\"x[1:]: \", x[1:]) # index 1 to the end of the list\n",
    "print (\"x[1:2]: \", x[1:2]) # index 1 to index 2 (not including index 2)\n",
    "print (\"x[:-1]: \", x[:-1]) # index 0 to last index (not including last index)"
   ]
  },
  {
   "cell_type": "code",
   "execution_count": 21,
   "metadata": {
    "colab": {
     "base_uri": "https://localhost:8080/"
    },
    "id": "l47IYnoLaOGi",
    "outputId": "78f16a7b-b4fb-4edd-d0b8-a5c796ed1cce"
   },
   "outputs": [
    {
     "name": "stdout",
     "output_type": "stream",
     "text": [
      "[3, 'hello', 1.2]\n",
      "3\n"
     ]
    }
   ],
   "source": [
    "# Indexing beyond length\n",
    "print (x[:100])\n",
    "print (len(x[:100]))"
   ]
  },
  {
   "cell_type": "markdown",
   "metadata": {
    "id": "UdlJHkwZV3Mz"
   },
   "source": [
    "# Dictionaries"
   ]
  },
  {
   "cell_type": "markdown",
   "metadata": {
    "id": "azp3AoxYXS26"
   },
   "source": [
    "Dictionaries are an unordered, mutable and indexed collection of key-value pairs. You can retrieve values based on the key and a dictionary cannot have two of the same keys. \n",
    "\n",
    "<div align=\"left\">\n",
    "<img src=\"https://madewithml.com/static/images/foundations/python/dictionaries.png\" width=\"320\">\n",
    "</div>"
   ]
  },
  {
   "cell_type": "code",
   "execution_count": 22,
   "metadata": {
    "colab": {
     "base_uri": "https://localhost:8080/"
    },
    "id": "pXhNLbzpXXSk",
    "outputId": "8b625d79-1e25-430b-a505-37c56e04ecac"
   },
   "outputs": [
    {
     "name": "stdout",
     "output_type": "stream",
     "text": [
      "{'name': 'Goku', 'eye_color': 'brown'}\n",
      "Goku\n",
      "brown\n"
     ]
    }
   ],
   "source": [
    "# Creating a dictionary\n",
    "person = {\"name\": \"Goku\",\n",
    "          \"eye_color\": \"brown\"}\n",
    "print (person)\n",
    "print (person[\"name\"])\n",
    "print (person[\"eye_color\"])"
   ]
  },
  {
   "cell_type": "code",
   "execution_count": 23,
   "metadata": {
    "colab": {
     "base_uri": "https://localhost:8080/"
    },
    "id": "1HXtX8vQYjXa",
    "outputId": "c9869c2b-815f-47dc-b1b4-03515a1448ab"
   },
   "outputs": [
    {
     "name": "stdout",
     "output_type": "stream",
     "text": [
      "{'name': 'Goku', 'eye_color': 'green'}\n"
     ]
    }
   ],
   "source": [
    "# Changing the value for a key\n",
    "person[\"eye_color\"] = \"green\"\n",
    "print (person)"
   ]
  },
  {
   "cell_type": "code",
   "execution_count": 24,
   "metadata": {
    "colab": {
     "base_uri": "https://localhost:8080/"
    },
    "id": "qn33iB0MY5dT",
    "outputId": "a420c190-3ae4-4e00-e81c-d62f97fd1408"
   },
   "outputs": [
    {
     "name": "stdout",
     "output_type": "stream",
     "text": [
      "{'name': 'Goku', 'eye_color': 'green', 'age': 24}\n"
     ]
    }
   ],
   "source": [
    "# Adding new key-value pairs\n",
    "person[\"age\"] = 24\n",
    "print (person)"
   ]
  },
  {
   "cell_type": "code",
   "execution_count": 25,
   "metadata": {
    "colab": {
     "base_uri": "https://localhost:8080/"
    },
    "id": "g9EYmzMKa9YV",
    "outputId": "1f29de69-1210-475e-bdd6-e0a598fac3bc"
   },
   "outputs": [
    {
     "name": "stdout",
     "output_type": "stream",
     "text": [
      "3\n"
     ]
    }
   ],
   "source": [
    "# Length of a dictionary\n",
    "print (len(person))"
   ]
  },
  {
   "cell_type": "markdown",
   "metadata": {
    "id": "kuit19F4kDkL"
   },
   "source": [
    "The similarities and differences of the foundational data structures we've seen so far.\n",
    "\n",
    "|       | Mutable | Ordered | Indexable | Unique |\n",
    "        |-------|---------|---------|-----------|--------|\n",
    "        | List  | ✅       | ✅       | ✅         | ❌      |\n",
    "        | Tuple | ❌       | ✅       | ✅         | ❌      |\n",
    "        | Set   | ✅       | ❌       | ❌         | ✅      |\n",
    "        | Dictionary   | ✅        | ❌       | ❌         | ✅ &nbsp;keys<br>❌ &nbsp;values      |\n",
    "       "
   ]
  },
  {
   "cell_type": "markdown",
   "metadata": {
    "id": "PNZYdRJTk2wy"
   },
   "source": [
    "But of course, there is pretty much a way to do accomplish anything with Python. For example, even though native dictionaries are unordered, we can leverage the [OrderedDict](https://docs.python.org/3/library/collections.html) data structure to change that (useful if we want to iterate through keys in a certain order, etc.)."
   ]
  },
  {
   "cell_type": "code",
   "execution_count": 26,
   "metadata": {
    "id": "SmvDsTYakzQC"
   },
   "outputs": [],
   "source": [
    "from collections import OrderedDict"
   ]
  },
  {
   "cell_type": "code",
   "execution_count": 27,
   "metadata": {
    "colab": {
     "base_uri": "https://localhost:8080/"
    },
    "id": "BMQpaMmpkzTp",
    "outputId": "0b13d918-ced9-448a-8a4f-20a78fc0bd2d"
   },
   "outputs": [
    {
     "name": "stdout",
     "output_type": "stream",
     "text": [
      "{'a': 2, 'c': 3, 'b': 1}\n"
     ]
    }
   ],
   "source": [
    "# Native dict\n",
    "d = {}\n",
    "d[\"a\"] = 2\n",
    "d[\"c\"] = 3\n",
    "d[\"b\"] = 1\n",
    "print (d)"
   ]
  },
  {
   "cell_type": "markdown",
   "metadata": {
    "id": "5ZfVq15sl8d1"
   },
   "source": [
    "> After Python 3.7+, native dictionaries are insertion ordered."
   ]
  },
  {
   "cell_type": "code",
   "execution_count": 28,
   "metadata": {
    "colab": {
     "base_uri": "https://localhost:8080/"
    },
    "id": "K0mzpuxOmr3g",
    "outputId": "35741a23-0075-4f91-dc9b-54af76e2c17a"
   },
   "outputs": [
    {
     "name": "stdout",
     "output_type": "stream",
     "text": [
      "dict_items([('a', 2), ('c', 3), ('b', 1)])\n"
     ]
    }
   ],
   "source": [
    "# Dictionary items\n",
    "print (d.items())"
   ]
  },
  {
   "cell_type": "code",
   "execution_count": 29,
   "metadata": {
    "colab": {
     "base_uri": "https://localhost:8080/"
    },
    "id": "ahIKOBp0mCmH",
    "outputId": "bffb1e00-1b78-457f-c52b-3289e828572b"
   },
   "outputs": [
    {
     "name": "stdout",
     "output_type": "stream",
     "text": [
      "OrderedDict([('a', 2), ('b', 1), ('c', 3)])\n"
     ]
    }
   ],
   "source": [
    "# Order by keys\n",
    "print (OrderedDict(sorted(d.items())))"
   ]
  },
  {
   "cell_type": "code",
   "execution_count": 30,
   "metadata": {
    "colab": {
     "base_uri": "https://localhost:8080/"
    },
    "id": "Jox7oy0smCuo",
    "outputId": "755665c1-a28e-49e0-8813-aafedcc7c448"
   },
   "outputs": [
    {
     "name": "stdout",
     "output_type": "stream",
     "text": [
      "OrderedDict([('b', 1), ('a', 2), ('c', 3)])\n"
     ]
    }
   ],
   "source": [
    "# Order by values\n",
    "print (OrderedDict(sorted(d.items(), key=lambda x: x[1])))"
   ]
  },
  {
   "cell_type": "markdown",
   "metadata": {
    "id": "B-DInx_Xo2vJ"
   },
   "source": [
    "# If statements"
   ]
  },
  {
   "cell_type": "markdown",
   "metadata": {
    "id": "ZG_ICGRGo4tY"
   },
   "source": [
    "We can use `if` statements to conditionally do something. The conditions are defined by the words `if`, `elif` (which stands for else if) and `else`. We can have as many `elif` statements as we want. The indented code below each condition is the code that will execute if the condition is `True`."
   ]
  },
  {
   "cell_type": "code",
   "execution_count": 31,
   "metadata": {
    "colab": {
     "base_uri": "https://localhost:8080/"
    },
    "id": "uob9lQuKo4Pg",
    "outputId": "794c3def-11e8-4908-bfc4-e640bb753da0"
   },
   "outputs": [
    {
     "name": "stdout",
     "output_type": "stream",
     "text": [
      "medium\n"
     ]
    }
   ],
   "source": [
    "# If statement\n",
    "x = 4\n",
    "if x < 1:\n",
    "    score = \"low\"\n",
    "elif x <= 4: # elif = else if\n",
    "    score = \"medium\"\n",
    "else:\n",
    "    score = \"high\"\n",
    "print (score)"
   ]
  },
  {
   "cell_type": "code",
   "execution_count": 32,
   "metadata": {
    "colab": {
     "base_uri": "https://localhost:8080/"
    },
    "id": "vwsQaZqIpfJ3",
    "outputId": "a78f544d-d39f-461e-b6b5-03ad154cd851"
   },
   "outputs": [
    {
     "name": "stdout",
     "output_type": "stream",
     "text": [
      "it worked\n"
     ]
    }
   ],
   "source": [
    "# If statement with a boolean\n",
    "x = True\n",
    "if x:\n",
    "    print (\"it worked\")"
   ]
  },
  {
   "cell_type": "markdown",
   "metadata": {
    "id": "sJ7NPGEKV6Ik"
   },
   "source": [
    "# Loops"
   ]
  },
  {
   "cell_type": "markdown",
   "metadata": {
    "id": "cRgqRyfITuEC"
   },
   "source": [
    "### For Loops"
   ]
  },
  {
   "cell_type": "markdown",
   "metadata": {
    "id": "YRVxhVCkn0vc"
   },
   "source": [
    "A `for` loop can iterate over a collection of values (lists, tuples, dictionaries, etc.) The indented code is executed for each item in the collection of values."
   ]
  },
  {
   "cell_type": "code",
   "execution_count": 33,
   "metadata": {
    "colab": {
     "base_uri": "https://localhost:8080/"
    },
    "id": "OB5PtyqAn8mj",
    "outputId": "38c3138e-1065-48aa-dcae-865f280bcb68"
   },
   "outputs": [
    {
     "name": "stdout",
     "output_type": "stream",
     "text": [
      "carrots\n",
      "broccoli\n",
      "beans\n"
     ]
    }
   ],
   "source": [
    "# For loop\n",
    "veggies = [\"carrots\", \"broccoli\", \"beans\"]\n",
    "for veggie in veggies:\n",
    "    print (veggie)"
   ]
  },
  {
   "cell_type": "markdown",
   "metadata": {
    "id": "PQc56LtEDuX2"
   },
   "source": [
    "When the loop encounters the `break` command, the loop will terminate immediately. If there were more items in the list, they will not be processed."
   ]
  },
  {
   "cell_type": "code",
   "execution_count": 34,
   "metadata": {
    "colab": {
     "base_uri": "https://localhost:8080/"
    },
    "id": "6XyhCrFeoGj4",
    "outputId": "1a50a0c4-a474-4eb7-f547-c936af97ec67"
   },
   "outputs": [
    {
     "name": "stdout",
     "output_type": "stream",
     "text": [
      "carrots\n"
     ]
    }
   ],
   "source": [
    "# `break` from a for loop\n",
    "veggies = [\"carrots\", \"broccoli\", \"beans\"]\n",
    "for veggie in veggies:\n",
    "    if veggie == \"broccoli\":\n",
    "        break\n",
    "    print (veggie)"
   ]
  },
  {
   "cell_type": "markdown",
   "metadata": {
    "id": "O_0-vSSuEAqU"
   },
   "source": [
    "When the loop encounters the `continue` command, the loop will skip all other operations for that item in the list only. If there were more items in the list, the loop will continue normally."
   ]
  },
  {
   "cell_type": "code",
   "execution_count": 35,
   "metadata": {
    "colab": {
     "base_uri": "https://localhost:8080/"
    },
    "id": "KJvlfYs8QbQZ",
    "outputId": "6e3d4eae-55ee-4f3f-dba4-9b323c74c9fb"
   },
   "outputs": [
    {
     "name": "stdout",
     "output_type": "stream",
     "text": [
      "carrots\n",
      "beans\n"
     ]
    }
   ],
   "source": [
    "# `continue` to the next iteration\n",
    "veggies = [\"carrots\", \"broccoli\", \"beans\"]\n",
    "for veggie in veggies:\n",
    "    if veggie == \"broccoli\":\n",
    "        continue\n",
    "    print (veggie)"
   ]
  },
  {
   "cell_type": "markdown",
   "metadata": {
    "id": "VAbnASi2TwZ9"
   },
   "source": [
    "### While Loops"
   ]
  },
  {
   "cell_type": "markdown",
   "metadata": {
    "id": "nuHAyQdr_jUa"
   },
   "source": [
    "A `while` loop can perform repeatedly as long as a condition is `True`. We can use `continue` and `break` commands in `while` loops as well."
   ]
  },
  {
   "cell_type": "code",
   "execution_count": 36,
   "metadata": {
    "colab": {
     "base_uri": "https://localhost:8080/"
    },
    "id": "5Tf2x4okp3fH",
    "outputId": "18f0b617-94a7-4cfa-de04-2d3110c2d96e"
   },
   "outputs": [
    {
     "name": "stdout",
     "output_type": "stream",
     "text": [
      "2\n",
      "1\n",
      "0\n"
     ]
    }
   ],
   "source": [
    "# While loop\n",
    "x = 3\n",
    "while x > 0:\n",
    "    x -= 1 # same as x = x - 1\n",
    "    print (x)"
   ]
  },
  {
   "cell_type": "markdown",
   "metadata": {
    "id": "4Ku6BGnnoXxW"
   },
   "source": [
    "# List comprehension"
   ]
  },
  {
   "cell_type": "markdown",
   "metadata": {
    "id": "VebDucj8oZae"
   },
   "source": [
    "We can combine our knowledge of lists and for loops to leverage list comprehensions to create succinct code."
   ]
  },
  {
   "cell_type": "code",
   "execution_count": 37,
   "metadata": {
    "colab": {
     "base_uri": "https://localhost:8080/"
    },
    "id": "5wZY1Pt_orEu",
    "outputId": "d37a6a8d-de4c-4a07-91ea-464dd21cd427"
   },
   "outputs": [
    {
     "name": "stdout",
     "output_type": "stream",
     "text": [
      "[3, 4, 5]\n"
     ]
    }
   ],
   "source": [
    "# For loop\n",
    "x = [1, 2, 3, 4, 5]\n",
    "y = []\n",
    "for item in x:\n",
    "    if item > 2:\n",
    "        y.append(item)\n",
    "print (y)"
   ]
  },
  {
   "cell_type": "markdown",
   "metadata": {
    "id": "DNGRa7ofwoZj"
   },
   "source": [
    "<div align=\"left\">\n",
    "<img src=\"https://madewithml.com/static/images/foundations/python/comprehension.png\" width=\"320\">\n",
    "</div>"
   ]
  },
  {
   "cell_type": "code",
   "execution_count": 38,
   "metadata": {
    "colab": {
     "base_uri": "https://localhost:8080/"
    },
    "id": "TuRUDixEo1Z4",
    "outputId": "f4d7cacd-8466-4061-c777-1d19f2ba26a4"
   },
   "outputs": [
    {
     "name": "stdout",
     "output_type": "stream",
     "text": [
      "[3, 4, 5]\n"
     ]
    }
   ],
   "source": [
    "# List comprehension\n",
    "y = [item for item in x if item > 2]\n",
    "print (y)"
   ]
  },
  {
   "cell_type": "code",
   "execution_count": 39,
   "metadata": {
    "colab": {
     "base_uri": "https://localhost:8080/"
    },
    "id": "V_E59A9Io1cz",
    "outputId": "7092a86b-00e1-4307-eb8c-0abba9eeb1c9"
   },
   "outputs": [
    {
     "name": "stdout",
     "output_type": "stream",
     "text": [
      "['am', 'be']\n"
     ]
    }
   ],
   "source": [
    "# Nested for loops\n",
    "words = [[\"Am\", \"ate\", \"ATOM\", \"apple\"], [\"bE\", \"boy\", \"ball\", \"bloom\"]]\n",
    "small_words = []\n",
    "for letter_list in words:\n",
    "    for word in letter_list:\n",
    "        if len(word) < 3:\n",
    "            small_words.append(word.lower())\n",
    "print (small_words)"
   ]
  },
  {
   "cell_type": "markdown",
   "metadata": {
    "id": "SHcly_8zwyCW"
   },
   "source": [
    "The list comprehension involves just directly copying the statements from the nested for loop from top to bottom!"
   ]
  },
  {
   "cell_type": "code",
   "execution_count": 40,
   "metadata": {
    "colab": {
     "base_uri": "https://localhost:8080/"
    },
    "id": "YyKnHhiso1fg",
    "outputId": "dcfd4040-cb4a-4c2d-852d-91a4ed0c7828"
   },
   "outputs": [
    {
     "name": "stdout",
     "output_type": "stream",
     "text": [
      "['am', 'be']\n"
     ]
    }
   ],
   "source": [
    "# List comprehension\n",
    "small_words = [word.lower() for letter_list in words for word in letter_list if len(word) < 3]\n",
    "print (small_words)"
   ]
  },
  {
   "cell_type": "markdown",
   "metadata": {
    "id": "gJw-EDO9WBL_"
   },
   "source": [
    "# Functions"
   ]
  },
  {
   "cell_type": "markdown",
   "metadata": {
    "id": "hDIOUdWCqBwa"
   },
   "source": [
    "Functions are a way to modularize reusable pieces of code. They're defined by the keyword `def` which stands for definition and they can have the following components.\n",
    "\n",
    "<div align=\"left\">\n",
    "<img src=\"https://madewithml.com/static/images/foundations/python/functions.png\" width=\"350\">\n",
    "</div>"
   ]
  },
  {
   "cell_type": "code",
   "execution_count": 41,
   "metadata": {
    "id": "iin1ZXmMqA0y"
   },
   "outputs": [],
   "source": [
    "# Define the function\n",
    "def add_two(x):\n",
    "    \"\"\"Increase x by 2.\"\"\" # explains what this function will do\n",
    "    x += 2\n",
    "    return x"
   ]
  },
  {
   "cell_type": "markdown",
   "metadata": {
    "id": "OIf2dJ8RGj8l"
   },
   "source": [
    "Here are the components that may be required when we want to use the function. we need to ensure that the function name and the input parameters match with how we defined the function above.\n",
    "\n",
    "<div align=\"left\">\n",
    "<img src=\"https://madewithml.com/static/images/foundations/python/calling_functions.png\" width=\"350\">\n",
    "</div>"
   ]
  },
  {
   "cell_type": "code",
   "execution_count": 42,
   "metadata": {
    "colab": {
     "base_uri": "https://localhost:8080/"
    },
    "id": "4ye1A5FobAUd",
    "outputId": "aea6727f-3e55-4a32-9fa0-7aacc9ddbf08"
   },
   "outputs": [
    {
     "name": "stdout",
     "output_type": "stream",
     "text": [
      "2\n"
     ]
    }
   ],
   "source": [
    "# Use the function\n",
    "score = 0\n",
    "new_score = add_two(x=score)\n",
    "print (new_score)"
   ]
  },
  {
   "cell_type": "markdown",
   "metadata": {
    "id": "5kpEiTUZqMax"
   },
   "source": [
    "A function can have as many input parameters and outputs as we want."
   ]
  },
  {
   "cell_type": "code",
   "execution_count": 43,
   "metadata": {
    "id": "DC6x3DMrqlE3"
   },
   "outputs": [],
   "source": [
    "# Function with multiple inputs\n",
    "def join_name(first_name, last_name):\n",
    "    \"\"\"Combine first name and last name.\"\"\"\n",
    "    joined_name = first_name + \" \" + last_name\n",
    "    return joined_name"
   ]
  },
  {
   "cell_type": "code",
   "execution_count": 44,
   "metadata": {
    "colab": {
     "base_uri": "https://localhost:8080/"
    },
    "id": "ehc8bNoGbBt8",
    "outputId": "470bd49d-4f71-4cc3-d2f9-fb3426d6fe0b"
   },
   "outputs": [
    {
     "name": "stdout",
     "output_type": "stream",
     "text": [
      "Goku Mohandas\n"
     ]
    }
   ],
   "source": [
    "# Use the function\n",
    "first_name = \"Goku\"\n",
    "last_name = \"Mohandas\"\n",
    "joined_name = join_name(first_name=first_name, \n",
    "                        last_name=last_name)\n",
    "print (joined_name)"
   ]
  },
  {
   "cell_type": "markdown",
   "metadata": {
    "id": "x3_7Qv91Gjua"
   },
   "source": [
    "> It's good practice to always use keyword argument when using a function so that it's very clear what input variable belongs to what function input parameter. On a related note, you will often see the terms `*args` and `**kwargs` which stand for arguments and keyword arguments. You can extract them when they are passed into a function. The significance of the `*` is that any number of arguments and keyword arguments can be passed into the function."
   ]
  },
  {
   "cell_type": "code",
   "execution_count": 45,
   "metadata": {
    "id": "XHhaCfFaHSVo"
   },
   "outputs": [],
   "source": [
    "def f(*args, **kwargs):\n",
    "    x = args[0]\n",
    "    y = kwargs.get(\"y\")\n",
    "    print (f\"x: {x}, y: {y}\")"
   ]
  },
  {
   "cell_type": "code",
   "execution_count": 46,
   "metadata": {
    "colab": {
     "base_uri": "https://localhost:8080/"
    },
    "id": "ZRB9msy0HmR_",
    "outputId": "68a23073-2b79-44a9-9be0-02e8623aa3da"
   },
   "outputs": [
    {
     "name": "stdout",
     "output_type": "stream",
     "text": [
      "x: 5, y: 2\n"
     ]
    }
   ],
   "source": [
    "f(5, y=2)"
   ]
  },
  {
   "cell_type": "markdown",
   "metadata": {
    "id": "lBLa1n54WEd2"
   },
   "source": [
    "# Classes"
   ]
  },
  {
   "cell_type": "markdown",
   "metadata": {
    "id": "mGua8QnArAZh"
   },
   "source": [
    "Classes are object constructors and are a fundamental component of object oriented programming in Python. They are composed of a set of functions that define the class and it's operations."
   ]
  },
  {
   "cell_type": "markdown",
   "metadata": {
    "id": "CypuBBQyRv8s"
   },
   "source": [
    "### `__init__` function"
   ]
  },
  {
   "cell_type": "markdown",
   "metadata": {
    "id": "Hrx2bKTXR4E3"
   },
   "source": [
    "The `__init__` function is used when an instance of the class is initialized. "
   ]
  },
  {
   "cell_type": "code",
   "execution_count": 47,
   "metadata": {
    "id": "DXmPwI1frAAd"
   },
   "outputs": [],
   "source": [
    "# Creating the class\n",
    "class Pet(object):\n",
    "    \"\"\"Class object for a pet.\"\"\"\n",
    "    \n",
    "    def __init__(self, species, name):\n",
    "        \"\"\"Initialize a Pet.\"\"\"\n",
    "        self.species = species\n",
    "        self.name = name"
   ]
  },
  {
   "cell_type": "code",
   "execution_count": 48,
   "metadata": {
    "colab": {
     "base_uri": "https://localhost:8080/"
    },
    "id": "j5F4XmFQSfVr",
    "outputId": "c6b3e261-9857-40a0-c0b8-1cf9635fedc1"
   },
   "outputs": [
    {
     "name": "stdout",
     "output_type": "stream",
     "text": [
      "<__main__.Pet object at 0x7f5c6953e910>\n",
      "Scooby\n"
     ]
    }
   ],
   "source": [
    "# Creating an instance of a class\n",
    "my_dog = Pet(species=\"dog\", \n",
    "             name=\"Scooby\")\n",
    "print (my_dog)\n",
    "print (my_dog.name)"
   ]
  },
  {
   "cell_type": "markdown",
   "metadata": {
    "id": "6ZVfBXNISUBR"
   },
   "source": [
    "### `__str__` function"
   ]
  },
  {
   "cell_type": "markdown",
   "metadata": {
    "id": "8q6oiWHQSqOo"
   },
   "source": [
    "The `print (my_dog)` command printed something not so relevant to us. Let's fix that with the `__str__` function."
   ]
  },
  {
   "cell_type": "code",
   "execution_count": 49,
   "metadata": {
    "id": "N1_RDVo9Ruhf"
   },
   "outputs": [],
   "source": [
    "# Creating the class\n",
    "class Pet(object):\n",
    "    \"\"\"Class object for a pet.\"\"\"\n",
    "  \n",
    "    def __init__(self, species, name):\n",
    "        \"\"\"Initialize a Pet.\"\"\"\n",
    "        self.species = species\n",
    "        self.name = name\n",
    " \n",
    "    def __str__(self):\n",
    "        \"\"\"Output when printing an instance of a Pet.\"\"\"\n",
    "        return f\"{self.species} named {self.name}\""
   ]
  },
  {
   "cell_type": "code",
   "execution_count": 50,
   "metadata": {
    "colab": {
     "base_uri": "https://localhost:8080/"
    },
    "id": "vQeU2yScSkW7",
    "outputId": "eda41aa8-4ac9-4369-f844-a8e17200b2b8"
   },
   "outputs": [
    {
     "name": "stdout",
     "output_type": "stream",
     "text": [
      "dog named Scooby\n",
      "Scooby\n"
     ]
    }
   ],
   "source": [
    "# Creating an instance of a class\n",
    "my_dog = Pet(species=\"dog\", \n",
    "             name=\"Scooby\")\n",
    "print (my_dog)\n",
    "print (my_dog.name)"
   ]
  },
  {
   "cell_type": "markdown",
   "metadata": {
    "id": "luB-RBMXK_rL"
   },
   "source": [
    "> Classes can be customized with **magic** functions like `__init__` and `__str__`, to enable powerful operations. We'll be exploring additional built-in functions in subsequent notebooks (like `__len__`, `__iter__` and `__getitem__`, etc.) but if you're curious, here is a [tutorial](https://rszalski.github.io/magicmethods/) on more magic methods."
   ]
  },
  {
   "cell_type": "markdown",
   "metadata": {
    "id": "LaTaBd8jSYuy"
   },
   "source": [
    "### Object methods"
   ]
  },
  {
   "cell_type": "code",
   "execution_count": 51,
   "metadata": {
    "id": "Vz95DOFjSY3s"
   },
   "outputs": [],
   "source": [
    "# Creating the class\n",
    "class Pet(object):\n",
    "    \"\"\"Class object for a pet.\"\"\"\n",
    "  \n",
    "    def __init__(self, species, name):\n",
    "        \"\"\"Initialize a Pet.\"\"\"\n",
    "        self.species = species\n",
    "        self.name = name\n",
    " \n",
    "    def __str__(self):\n",
    "        \"\"\"Output when printing an instance of a Pet.\"\"\"\n",
    "        return f\"{self.species} named {self.name}\"\n",
    "        \n",
    "    def change_name(self, new_name):\n",
    "        \"\"\"Change the name of your Pet.\"\"\"\n",
    "        self.name = new_name"
   ]
  },
  {
   "cell_type": "code",
   "execution_count": 52,
   "metadata": {
    "colab": {
     "base_uri": "https://localhost:8080/"
    },
    "id": "ezQq_Fhhrqrv",
    "outputId": "a931b4ec-6414-49c3-8ac9-ffdafd38c454"
   },
   "outputs": [
    {
     "name": "stdout",
     "output_type": "stream",
     "text": [
      "dog named Scooby\n",
      "Scooby\n"
     ]
    }
   ],
   "source": [
    "# Creating an instance of a class\n",
    "my_dog = Pet(species=\"dog\", name=\"Scooby\")\n",
    "print (my_dog)\n",
    "print (my_dog.name)"
   ]
  },
  {
   "cell_type": "code",
   "execution_count": 53,
   "metadata": {
    "colab": {
     "base_uri": "https://localhost:8080/"
    },
    "id": "qTinlRj1szc5",
    "outputId": "155fd226-740f-4607-b864-d0f7953f1f7d"
   },
   "outputs": [
    {
     "name": "stdout",
     "output_type": "stream",
     "text": [
      "dog named Scrappy\n",
      "Scrappy\n"
     ]
    }
   ],
   "source": [
    "# Using a class's function\n",
    "my_dog.change_name(new_name=\"Scrappy\")\n",
    "print (my_dog)\n",
    "print (my_dog.name)"
   ]
  },
  {
   "cell_type": "markdown",
   "metadata": {
    "id": "wRcOLRK3TlEO"
   },
   "source": [
    "### Inheritance"
   ]
  },
  {
   "cell_type": "markdown",
   "metadata": {
    "id": "wR1lyaGwWAcR"
   },
   "source": [
    "Notice how we inherited the initialized variables from the parent `Pet` class like species and name. We also inherited functions such as `change_name()`."
   ]
  },
  {
   "cell_type": "code",
   "execution_count": 59,
   "metadata": {
    "id": "TaDN2qwBTm7_"
   },
   "outputs": [],
   "source": [
    "class Dog(Pet):\n",
    "    def __init__(self, name, breed):\n",
    "        super().__init__(species=\"dog\", name=name)\n",
    "        self.breed = breed\n",
    "    \n",
    "    def __str__(self):\n",
    "        return f\"A {self.breed} doggo named {self.name}\""
   ]
  },
  {
   "cell_type": "markdown",
   "metadata": {
    "id": "FxXhC_-1dABE"
   },
   "source": [
    "As you can see, both our parent class (`Pet`) and the child class (`Dog`) have different `__str__` functions defined but share the same function name. The child class inherits everything from the parent classes but when there is conflict between function names, the child class' functions take precedence and overwrite the parent class' functions."
   ]
  },
  {
   "cell_type": "code",
   "execution_count": 60,
   "metadata": {
    "colab": {
     "base_uri": "https://localhost:8080/"
    },
    "id": "tKxWHokkT-RI",
    "outputId": "f7b8a931-7af6-410e-9cb8-0bf86733b922"
   },
   "outputs": [
    {
     "name": "stdout",
     "output_type": "stream",
     "text": [
      "A Great Dane doggo named Scooby\n"
     ]
    }
   ],
   "source": [
    "scooby = Dog(breed=\"Great Dane\", name=\"Scooby\")\n",
    "print (scooby)"
   ]
  },
  {
   "cell_type": "code",
   "execution_count": 61,
   "metadata": {
    "colab": {
     "base_uri": "https://localhost:8080/"
    },
    "id": "YLF_tw5mVFO9",
    "outputId": "99b82fe4-b853-4aa4-dec8-e0987fef9972"
   },
   "outputs": [
    {
     "name": "stdout",
     "output_type": "stream",
     "text": [
      "A Great Dane doggo named Scooby Doo\n"
     ]
    }
   ],
   "source": [
    "scooby.change_name(\"Scooby Doo\")\n",
    "print (scooby)"
   ]
  },
  {
   "cell_type": "markdown",
   "metadata": {
    "id": "B-XNM5_37842"
   },
   "source": [
    "### Methods"
   ]
  },
  {
   "cell_type": "markdown",
   "metadata": {
    "id": "pvqSxZn57_2-"
   },
   "source": [
    "There are two important decorator methods to know about when it comes to classes: `@classmethod` and `@staticmethod`. We'll learn about decorators in the next section below but these specific methods pertain to classes so we'll cover them here."
   ]
  },
  {
   "cell_type": "code",
   "execution_count": null,
   "metadata": {
    "id": "fdoi3R7z8QJw"
   },
   "outputs": [],
   "source": [
    "class Dog(Pet):\n",
    "    def __init__(self, name, breed):\n",
    "        super().__init__(species=\"dog\", name=name)\n",
    "        self.breed = breed\n",
    "    \n",
    "    def __str__(self):\n",
    "        return f\"{self.breed} named {self.name}\"\n",
    "\n",
    "    @classmethod\n",
    "    def from_dict(cls, d):\n",
    "        return cls(name=d[\"name\"], breed=d[\"breed\"])\n",
    "\n",
    "    @staticmethod\n",
    "    def is_cute(breed):\n",
    "        return True  # all animaals are cute!"
   ]
  },
  {
   "cell_type": "markdown",
   "metadata": {
    "id": "6lXOkrAI-IuJ"
   },
   "source": [
    "A `@classmethod` allows us to create class instances by passing in the uninstantiated class itself (`cls`). This is a great way to create (or load) classes from objects (ie. dictionaries). "
   ]
  },
  {
   "cell_type": "code",
   "execution_count": null,
   "metadata": {
    "colab": {
     "base_uri": "https://localhost:8080/"
    },
    "id": "kPgWwVBu8_ro",
    "outputId": "6bd1a6de-39ca-4b43-e0b3-9e272923b95d"
   },
   "outputs": [
    {
     "name": "stdout",
     "output_type": "stream",
     "text": [
      "Border Collie named Cassie\n"
     ]
    }
   ],
   "source": [
    "# Create instance\n",
    "d = {\"name\": \"Cassie\", \"breed\": \"Border Collie\"}\n",
    "cassie = Dog.from_dict(d=d)\n",
    "print(cassie)"
   ]
  },
  {
   "cell_type": "markdown",
   "metadata": {
    "id": "LEhGQqU79-MO"
   },
   "source": [
    "A `@staticmethod` can be called from an uninstantiated class object so we can do things like this:"
   ]
  },
  {
   "cell_type": "code",
   "execution_count": null,
   "metadata": {
    "colab": {
     "base_uri": "https://localhost:8080/"
    },
    "id": "9PdglAwa8_uG",
    "outputId": "69b75e60-cc18-479d-e540-2e8b4bcd96eb"
   },
   "outputs": [
    {
     "data": {
      "text/plain": [
       "True"
      ]
     },
     "execution_count": 59,
     "metadata": {},
     "output_type": "execute_result"
    }
   ],
   "source": [
    "# Static method\n",
    "Dog.is_cute(breed=\"Border Collie\")"
   ]
  },
  {
   "cell_type": "markdown",
   "metadata": {
    "id": "nv5ja3dEtfJN"
   },
   "source": [
    "# Decorators"
   ]
  },
  {
   "cell_type": "markdown",
   "metadata": {
    "id": "8aSOSxkSw8lu"
   },
   "source": [
    "Recall that functions allow us to modularize code and reuse them. However, we'll often want to add some functionality before or after the main function executes and we may want to do this for many different functions. Instead of adding more code to the original function, we can use decorators!\n",
    "\n",
    "*    **decorators**: augment a function with pre/post-processing. Decorators wrap around the main function and allow us to operate on the inputs and or outputs."
   ]
  },
  {
   "cell_type": "markdown",
   "metadata": {
    "id": "-AdOBNG7FGJB"
   },
   "source": [
    "Suppose we have a function called `operations` which increments the input value x by 1."
   ]
  },
  {
   "cell_type": "code",
   "execution_count": null,
   "metadata": {
    "id": "B-JYWOyP1ekZ"
   },
   "outputs": [],
   "source": [
    "def operations(x):\n",
    "    \"\"\"Basic operations.\"\"\"\n",
    "    x += 1\n",
    "    return x"
   ]
  },
  {
   "cell_type": "code",
   "execution_count": null,
   "metadata": {
    "colab": {
     "base_uri": "https://localhost:8080/"
    },
    "id": "XD6oY_8C1en8",
    "outputId": "2ada4c65-53e6-423d-8b95-730c181088da"
   },
   "outputs": [
    {
     "data": {
      "text/plain": [
       "2"
      ]
     },
     "execution_count": 61,
     "metadata": {},
     "output_type": "execute_result"
    }
   ],
   "source": [
    "operations(x=1)"
   ]
  },
  {
   "cell_type": "markdown",
   "metadata": {
    "id": "LbAeHmc91iq-"
   },
   "source": [
    "Now let's say we want to increment our input x by 1 before and after the `operations` function executes and, to illustrate this example, let's say the increments have to be separate steps. Here's how we would do it by changing the original code:"
   ]
  },
  {
   "cell_type": "code",
   "execution_count": null,
   "metadata": {
    "id": "_zZMfUHq7xuv"
   },
   "outputs": [],
   "source": [
    "def operations(x):\n",
    "    \"\"\"Basic operations.\"\"\"\n",
    "    x += 1 \n",
    "    x += 1\n",
    "    x += 1\n",
    "    return x"
   ]
  },
  {
   "cell_type": "code",
   "execution_count": null,
   "metadata": {
    "colab": {
     "base_uri": "https://localhost:8080/"
    },
    "id": "43BhH51m73Kf",
    "outputId": "67671605-9b69-4036-f5d0-11e715849048"
   },
   "outputs": [
    {
     "data": {
      "text/plain": [
       "4"
      ]
     },
     "execution_count": 63,
     "metadata": {},
     "output_type": "execute_result"
    }
   ],
   "source": [
    "operations(x=1)"
   ]
  },
  {
   "cell_type": "markdown",
   "metadata": {
    "id": "dIorZSTM72h-"
   },
   "source": [
    "We were able to achieve what we want but we now increased the size of our `operations` function and if we want to do the same incrementing for any other function, we have to add the same code to all of those as well ... not very efficient. To solve this, let's create a decorator called `add` which increments `x` by 1 before and after the main function `f` executes."
   ]
  },
  {
   "cell_type": "markdown",
   "metadata": {
    "id": "kvMbqzW5cikA"
   },
   "source": [
    "### Creating a decorator function"
   ]
  },
  {
   "cell_type": "markdown",
   "metadata": {
    "id": "RFReNETpci1M"
   },
   "source": [
    "The decorator function accepts a function `f` which is the function we wish to wrap around, in our case, it's `operations()`. The output of the decorator is its `wrapper` function which receives the arguments and keyword arguments passed to function `f`.\n",
    "\n",
    "Inside the `wrapper` function, we can:\n",
    "1. extract the input parameters passed to function `f`.\n",
    "2. make any changes we want to the function inputs.\n",
    "3. function `f` is executed\n",
    "4. make any changes to the function outputs\n",
    "5. `wrapper` function returns some value(s), which is what the decorator returns as well since it returns `wrapper`."
   ]
  },
  {
   "cell_type": "code",
   "execution_count": null,
   "metadata": {
    "id": "6Lf7Ixrasiby"
   },
   "outputs": [],
   "source": [
    "# Decorator\n",
    "def add(f):\n",
    "    def wrapper(*args, **kwargs):\n",
    "        \"\"\"Wrapper function for @add.\"\"\"\n",
    "        x = kwargs.pop(\"x\") # .get() if not altering x\n",
    "        x += 1 # executes before function f\n",
    "        x = f(*args, **kwargs, x=x)\n",
    "        x += 1 # executes after function f\n",
    "        return x\n",
    "    return wrapper"
   ]
  },
  {
   "cell_type": "markdown",
   "metadata": {
    "id": "uVPWm6yfAmk9"
   },
   "source": [
    "We can use this decorator by simply adding it to the top of our main function preceded by the `@` symbol. "
   ]
  },
  {
   "cell_type": "code",
   "execution_count": null,
   "metadata": {
    "id": "CY2Vtxv9sih6"
   },
   "outputs": [],
   "source": [
    "@add\n",
    "def operations(x):\n",
    "    \"\"\"Basic operations.\"\"\"\n",
    "    x += 1\n",
    "    return x"
   ]
  },
  {
   "cell_type": "code",
   "execution_count": null,
   "metadata": {
    "colab": {
     "base_uri": "https://localhost:8080/"
    },
    "id": "-BhmFvkJsifJ",
    "outputId": "b5c41c1a-219c-4297-e4da-156890b93453"
   },
   "outputs": [
    {
     "data": {
      "text/plain": [
       "4"
      ]
     },
     "execution_count": 66,
     "metadata": {},
     "output_type": "execute_result"
    }
   ],
   "source": [
    "operations(x=1)"
   ]
  },
  {
   "cell_type": "markdown",
   "metadata": {
    "id": "rX4Ag4ryArQl"
   },
   "source": [
    "Suppose we wanted to debug and see what function actually executed with `operations()`. "
   ]
  },
  {
   "cell_type": "code",
   "execution_count": null,
   "metadata": {
    "colab": {
     "base_uri": "https://localhost:8080/"
    },
    "id": "LsDkTSz6siZG",
    "outputId": "91322e8c-93a9-43f7-8349-a66cb562330c"
   },
   "outputs": [
    {
     "data": {
      "text/plain": [
       "('wrapper', 'Wrapper function for @add.')"
      ]
     },
     "execution_count": 67,
     "metadata": {},
     "output_type": "execute_result"
    }
   ],
   "source": [
    "operations.__name__, operations.__doc__"
   ]
  },
  {
   "cell_type": "markdown",
   "metadata": {
    "id": "G9Rd1PrjA5d9"
   },
   "source": [
    "The function name and docstring are not what we're looking for but it appears this way because the `wrapper` function is what was executed. In order to fix this, Python offers `functools.wraps` which carries the main function's metadata. "
   ]
  },
  {
   "cell_type": "code",
   "execution_count": null,
   "metadata": {
    "id": "AtyQ8qb_upnc"
   },
   "outputs": [],
   "source": [
    "from functools import wraps"
   ]
  },
  {
   "cell_type": "code",
   "execution_count": null,
   "metadata": {
    "id": "ggp95rl4uuKW"
   },
   "outputs": [],
   "source": [
    "# Decorator\n",
    "def add(f):\n",
    "    @wraps(f)\n",
    "    def wrap(*args, **kwargs):\n",
    "        \"\"\"Wrapper function for @add.\"\"\"\n",
    "        x = kwargs.pop(\"x\") \n",
    "        x += 1\n",
    "        x = f(*args, **kwargs, x=x)\n",
    "        x += 1\n",
    "        return x\n",
    "    return wrap"
   ]
  },
  {
   "cell_type": "code",
   "execution_count": null,
   "metadata": {
    "id": "GvWdFV5XuuPn"
   },
   "outputs": [],
   "source": [
    "@add\n",
    "def operations(x):\n",
    "    \"\"\"Basic operations.\"\"\"\n",
    "    x += 1\n",
    "    return x"
   ]
  },
  {
   "cell_type": "code",
   "execution_count": null,
   "metadata": {
    "colab": {
     "base_uri": "https://localhost:8080/"
    },
    "id": "90Za5Wb0uuNl",
    "outputId": "bf5a2665-e5c8-4f4a-9327-1e0e88861b6d"
   },
   "outputs": [
    {
     "data": {
      "text/plain": [
       "('operations', 'Basic operations.')"
      ]
     },
     "execution_count": 71,
     "metadata": {},
     "output_type": "execute_result"
    }
   ],
   "source": [
    "operations.__name__, operations.__doc__"
   ]
  },
  {
   "cell_type": "markdown",
   "metadata": {
    "id": "aDR_uPXHBiIR"
   },
   "source": [
    "Awesome! We were able to decorate our main function `operation()` to achieve the customization we wanted without actually altering the function. We can reuse our decorator for other functions that may need the same customization!\n",
    "\n",
    "> This was a dummy example to show how decorators work but we'll be using them heavily during our [MLOps](https://madewithml.com/#mlops) lessons. A simple scenario would be using decorators to create uniform JSON responses from each API endpoint without including the bulky code in each endpoint."
   ]
  },
  {
   "cell_type": "markdown",
   "metadata": {
    "id": "__HvzfLUB_qK"
   },
   "source": [
    "# Callbacks"
   ]
  },
  {
   "cell_type": "markdown",
   "metadata": {
    "id": "46RnJdMZCDT3"
   },
   "source": [
    "Decorators allow for customized operations before and after the main function's execution but what about in between? Suppose we want to conditionally/situationally do some operations. Instead of writing a whole bunch of if-statements and make our functions bulky, we can use callbacks!\n",
    "\n",
    "*   **callbacks**: conditional/situational processing within the function."
   ]
  },
  {
   "cell_type": "markdown",
   "metadata": {
    "id": "_QEMtyB3FK34"
   },
   "source": [
    "Our callbacks will be classes that have functions with key names that will execute at various periods during the main function's execution. The function names are up to us but we need to invoke the same callback functions within our main function."
   ]
  },
  {
   "cell_type": "code",
   "execution_count": null,
   "metadata": {
    "id": "YUfpcY11uplW"
   },
   "outputs": [],
   "source": [
    "# Callback\n",
    "class x_tracker(object):\n",
    "    def __init__(self, x):\n",
    "        self.history = []\n",
    "    def at_start(self, x):\n",
    "        self.history.append(x)\n",
    "    def at_end(self, x):\n",
    "        self.history.append(x)"
   ]
  },
  {
   "cell_type": "markdown",
   "metadata": {
    "id": "9hphXr9hC0Us"
   },
   "source": [
    "We can pass in as many callbacks as we want and because they have appropriately named functions, they will be invoked at the appropriate times. "
   ]
  },
  {
   "cell_type": "code",
   "execution_count": null,
   "metadata": {
    "id": "F3XFote_CzlA"
   },
   "outputs": [],
   "source": [
    "def operations(x, callbacks=[]):\n",
    "    \"\"\"Basic operations.\"\"\"\n",
    "    for callback in callbacks:\n",
    "        callback.at_start(x)\n",
    "    x += 1\n",
    "    for callback in callbacks:\n",
    "        callback.at_end(x)\n",
    "    return x"
   ]
  },
  {
   "cell_type": "code",
   "execution_count": null,
   "metadata": {
    "colab": {
     "base_uri": "https://localhost:8080/"
    },
    "id": "d_QV5MZNDILI",
    "outputId": "f8b6c626-acd3-4343-8abd-1165e2426c97"
   },
   "outputs": [
    {
     "data": {
      "text/plain": [
       "2"
      ]
     },
     "execution_count": 74,
     "metadata": {},
     "output_type": "execute_result"
    }
   ],
   "source": [
    "x = 1\n",
    "tracker = x_tracker(x=x)\n",
    "operations(x=x, callbacks=[tracker])"
   ]
  },
  {
   "cell_type": "code",
   "execution_count": null,
   "metadata": {
    "colab": {
     "base_uri": "https://localhost:8080/"
    },
    "id": "j0RZ90HoDMbx",
    "outputId": "f095b9d8-71d7-4591-dd75-098aa3484806"
   },
   "outputs": [
    {
     "data": {
      "text/plain": [
       "[1, 2]"
      ]
     },
     "execution_count": 75,
     "metadata": {},
     "output_type": "execute_result"
    }
   ],
   "source": [
    "tracker.history"
   ]
  },
  {
   "cell_type": "markdown",
   "metadata": {
    "id": "ET1f4aleDYWZ"
   },
   "source": [
    "# Putting it all together"
   ]
  },
  {
   "cell_type": "markdown",
   "metadata": {
    "id": "V52b86DxDbux"
   },
   "source": [
    "decorators + callbacks = powerful customization *before*, *during* and *after* the main function’s execution without increasing its complexity. We will be using this duo to create powerful ML training scripts that are highly customizable in future lessons."
   ]
  },
  {
   "cell_type": "code",
   "execution_count": null,
   "metadata": {
    "id": "BEeYY6QHEsE-"
   },
   "outputs": [],
   "source": [
    "from functools import wraps"
   ]
  },
  {
   "cell_type": "code",
   "execution_count": null,
   "metadata": {
    "id": "NPcjeVOkEsLC"
   },
   "outputs": [],
   "source": [
    "# Decorator\n",
    "def add(f):\n",
    "    @wraps(f)\n",
    "    def wrap(*args, **kwargs):\n",
    "        \"\"\"Wrapper function for @add.\"\"\"\n",
    "        x = kwargs.pop(\"x\") # .get() if not altering x\n",
    "        x += 1 # executes before function f\n",
    "        x = f(*args, **kwargs, x=x)\n",
    "        # can do things post function f as well\n",
    "        return x\n",
    "    return wrap"
   ]
  },
  {
   "cell_type": "code",
   "execution_count": null,
   "metadata": {
    "id": "rBPVInWfEsIk"
   },
   "outputs": [],
   "source": [
    "# Callback\n",
    "class x_tracker(object):\n",
    "    def __init__(self, x):\n",
    "        self.history = [x]\n",
    "    def at_start(self, x):\n",
    "        self.history.append(x)\n",
    "    def at_end(self, x):\n",
    "        self.history.append(x)"
   ]
  },
  {
   "cell_type": "code",
   "execution_count": null,
   "metadata": {
    "id": "Px0vMT9gFcyp"
   },
   "outputs": [],
   "source": [
    "# Main function\n",
    "@add\n",
    "def operations(x, callbacks=[]):\n",
    "    \"\"\"Basic operations.\"\"\"\n",
    "    for callback in callbacks:\n",
    "        callback.at_start(x)\n",
    "    x += 1\n",
    "    for callback in callbacks:\n",
    "        callback.at_end(x)\n",
    "    return x"
   ]
  },
  {
   "cell_type": "code",
   "execution_count": null,
   "metadata": {
    "colab": {
     "base_uri": "https://localhost:8080/"
    },
    "id": "0AhGDNPWFc4i",
    "outputId": "1314d47d-1c58-49d0-c261-f12c864e3713"
   },
   "outputs": [
    {
     "data": {
      "text/plain": [
       "3"
      ]
     },
     "execution_count": 80,
     "metadata": {},
     "output_type": "execute_result"
    }
   ],
   "source": [
    "x = 1\n",
    "tracker = x_tracker(x=x)\n",
    "operations(x=x, callbacks=[tracker])"
   ]
  },
  {
   "cell_type": "code",
   "execution_count": null,
   "metadata": {
    "colab": {
     "base_uri": "https://localhost:8080/"
    },
    "id": "ajyUN2y0Fc2E",
    "outputId": "2b2d50c8-115d-46d7-b221-d23f37e5d5a8"
   },
   "outputs": [
    {
     "data": {
      "text/plain": [
       "[1, 2, 3]"
      ]
     },
     "execution_count": 81,
     "metadata": {},
     "output_type": "execute_result"
    }
   ],
   "source": [
    "tracker.history"
   ]
  }
 ],
 "metadata": {
  "colab": {
   "collapsed_sections": [],
   "name": "02_Python.ipynb",
   "provenance": [],
   "toc_visible": true
  },
  "kernelspec": {
   "display_name": "Python 3 (ipykernel)",
   "language": "python",
   "name": "python3"
  },
  "language_info": {
   "codemirror_mode": {
    "name": "ipython",
    "version": 3
   },
   "file_extension": ".py",
   "mimetype": "text/x-python",
   "name": "python",
   "nbconvert_exporter": "python",
   "pygments_lexer": "ipython3",
   "version": "3.10.4"
  }
 },
 "nbformat": 4,
 "nbformat_minor": 1
}
